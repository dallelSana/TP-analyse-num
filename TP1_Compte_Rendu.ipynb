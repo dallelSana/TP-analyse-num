{
 "cells": [
  {
   "cell_type": "markdown",
   "metadata": {},
   "source": [
    "# TP1 Analyse Numérique Version Python\n"
   ]
  },
  {
   "cell_type": "markdown",
   "metadata": {},
   "source": [
    "*****"
   ]
  },
  {
   "cell_type": "markdown",
   "metadata": {},
   "source": [
    "## Exercice 1:<h2>\n",
    ">On considère le polynôme $p(x) = (x - 1)^6$. \n",
    ">\n",
    ">En développant on\n",
    ">peut écrire ce même polynôme sous la forme\n",
    ">$f(x) = x^6 - 6x^5 + 15x^4 - 20x^3 + 15x^2 - 6x + 1.$\n",
    ">\n",
    ">1) Avec Matlab évaluer $p(x)$ et $f(x)$ pour $x$ allant de $.998$ à\n",
    ">$1.002$ en choisissant des pas de $.0001$.\n",
    ">\n",
    ">2) Faire un graphique de $f(x)$ et $p(x)$. Commenter."
   ]
  },
  {
   "cell_type": "markdown",
   "metadata": {},
   "source": [
    "### Correction <h3>"
   ]
  },
  {
   "cell_type": "markdown",
   "metadata": {},
   "source": [
    "#### 1)<h4>"
   ]
  },
  {
   "cell_type": "code",
   "execution_count": 2,
   "metadata": {},
   "outputs": [],
   "source": [
    "def p1(x):\n",
    "    return (x-1)**6 # ** puissance \n",
    "def p2(x):\n",
    "    return x**6 - 6*x**5 + 15*x**4 - 20*x**3 + 15*x**2 - 6*x + 1.\n",
    "    [[]]"
   ]
  },
  {
   "cell_type": "code",
   "execution_count": 3,
   "metadata": {},
   "outputs": [
    {
     "name": "stdout",
     "output_type": "stream",
     "text": [
      "p1(0.998)=6.400000000000034e-17 \n",
      "p2(0.998)=1.7763568394002505e-15 \n"
     ]
    }
   ],
   "source": [
    "print('p1({})={} '.format(0.998,p1(0.998)))\n",
    "print('p2({})={} '.format(0.998,p2(0.998)))"
   ]
  },
  {
   "cell_type": "markdown",
   "metadata": {},
   "source": [
    "p2(3)"
   ]
  },
  {
   "cell_type": "code",
   "execution_count": 1,
   "metadata": {},
   "outputs": [
    {
     "ename": "SyntaxError",
     "evalue": "invalid syntax (<ipython-input-1-a0b03aed08e4>, line 1)",
     "output_type": "error",
     "traceback": [
      "\u001b[0;36m  File \u001b[0;32m\"<ipython-input-1-a0b03aed08e4>\"\u001b[0;36m, line \u001b[0;32m1\u001b[0m\n\u001b[0;31m    function x = horner(a,z_0)\u001b[0m\n\u001b[0m             ^\u001b[0m\n\u001b[0;31mSyntaxError\u001b[0m\u001b[0;31m:\u001b[0m invalid syntax\n"
     ]
    }
   ],
   "source": [
    "function x = horner(a,z_0)\n",
    "n = length(a);\n",
    "result = a(1);\n",
    "for j = 2:n\n",
    "    result = result*z_0 + a(j);\n",
    "endfor\n",
    "x = result;\n",
    "end"
   ]
  },
  {
   "cell_type": "code",
   "execution_count": 1,
   "metadata": {},
   "outputs": [
    {
     "ename": "SyntaxError",
     "evalue": "invalid syntax (<ipython-input-1-2764c24e0b48>, line 1)",
     "output_type": "error",
     "traceback": [
      "\u001b[0;36m  File \u001b[0;32m\"<ipython-input-1-2764c24e0b48>\"\u001b[0;36m, line \u001b[0;32m1\u001b[0m\n\u001b[0;31m    T=[1 -6 15 -20 15 -6 1]\u001b[0m\n\u001b[0m             ^\u001b[0m\n\u001b[0;31mSyntaxError\u001b[0m\u001b[0;31m:\u001b[0m invalid syntax\n"
     ]
    }
   ],
   "source": [
    "T=[1 -6 15 -20 15 -6 1]\n",
    "% Expression réduite\n",
    "for i=[0.998:0.001:1.002]\n",
    "p(i)\n",
    "endfor\n",
    "%expression developpée\n",
    "disp('--------------------')\n",
    "for i=[0.998:0.001:1.002]\n",
    "f(i)\n",
    "endfor\n",
    "disp('--------------------')\n",
    "for i=[0.998:0.001:1.002]\n",
    "horner(T,i)\n",
    "endfor"
   ]
  },
  {
   "cell_type": "markdown",
   "metadata": {},
   "source": [
    "#### 2) <h4>"
   ]
  },
  {
   "cell_type": "code",
   "execution_count": 1,
   "metadata": {
    "scrolled": true
   },
   "outputs": [
    {
     "ename": "SyntaxError",
     "evalue": "invalid syntax (<ipython-input-1-27948c83ddf4>, line 1)",
     "output_type": "error",
     "traceback": [
      "\u001b[0;36m  File \u001b[0;32m\"<ipython-input-1-27948c83ddf4>\"\u001b[0;36m, line \u001b[0;32m1\u001b[0m\n\u001b[0;31m    x=[0.998:0.0001:1.002]\u001b[0m\n\u001b[0m            ^\u001b[0m\n\u001b[0;31mSyntaxError\u001b[0m\u001b[0;31m:\u001b[0m invalid syntax\n"
     ]
    }
   ],
   "source": [
    "x=[0.998:0.0001:1.002]\n",
    "plot(x,f(x),'r',x,p(x),'b*')\n",
    "title (\"solution dans [0.998:0.0001:1.002] \");\n",
    "xlabel (\"x\");\n",
    "ylabel (\"f(x)\");\n",
    "grid on"
   ]
  },
  {
   "cell_type": "markdown",
   "metadata": {},
   "source": [
    "# EXERCICE 2:\n",
    "\n",
    ">On considère l'équation : $$ f(x)=x^3+x^2-3x-3=0$$\n",
    ">1) Dessiner la courbe de $f$ dans l'intervalle $[-2;2]$, puis trouver des intervalles convenables pour appliquer la méthode de >bisection.\n",
    ">\n",
    ">2) Utiliser un programme `dicho.m` qui permettra de trouver les solutions de l'équation $f(x)=0$ avec $eps=0.001$.\n",
    ">\n",
    ">3) Modifier le programme `dicho.m` pour qu'il donne le nombre d'itération nécessaire pour avoir la solution à $eps$ près."
   ]
  },
  {
   "cell_type": "markdown",
   "metadata": {},
   "source": [
    "### Correction <h3>"
   ]
  },
  {
   "cell_type": "markdown",
   "metadata": {},
   "source": [
    "#### 1)<h4>"
   ]
  },
  {
   "cell_type": "code",
   "execution_count": 2,
   "metadata": {},
   "outputs": [
    {
     "ename": "SyntaxError",
     "evalue": "invalid syntax (<ipython-input-2-f6f8bb2ae14b>, line 1)",
     "output_type": "error",
     "traceback": [
      "\u001b[0;36m  File \u001b[0;32m\"<ipython-input-2-f6f8bb2ae14b>\"\u001b[0;36m, line \u001b[0;32m1\u001b[0m\n\u001b[0;31m    f=@(x) x.^3+x.^2-3*x-3\u001b[0m\n\u001b[0m      ^\u001b[0m\n\u001b[0;31mSyntaxError\u001b[0m\u001b[0;31m:\u001b[0m invalid syntax\n"
     ]
    }
   ],
   "source": [
    "f=@(x) x.^3+x.^2-3*x-3\n",
    "t=[-2:2];\n",
    "plot(t,f(t))\n",
    "title (\"solution dans [-2:2] \");\n",
    "xlabel (\"x\");\n",
    "ylabel (\"f(x)\");\n",
    "grid on"
   ]
  },
  {
   "cell_type": "code",
   "execution_count": null,
   "metadata": {},
   "outputs": [],
   "source": [
    "f = lambda x: x**3 + x**2 - 3*x -3\n",
    "import numpy as np"
   ]
  },
  {
   "cell_type": "code",
   "execution_count": 4,
   "metadata": {},
   "outputs": [
    {
     "ename": "SyntaxError",
     "evalue": "invalid syntax (<ipython-input-4-2fd05f383af0>, line 1)",
     "output_type": "error",
     "traceback": [
      "\u001b[0;36m  File \u001b[0;32m\"<ipython-input-4-2fd05f383af0>\"\u001b[0;36m, line \u001b[0;32m1\u001b[0m\n\u001b[0;31m    t=[1.5:0.01:2];\u001b[0m\n\u001b[0m          ^\u001b[0m\n\u001b[0;31mSyntaxError\u001b[0m\u001b[0;31m:\u001b[0m invalid syntax\n"
     ]
    }
   ],
   "source": [
    "t=[1.5:0.01:2];\n",
    "subplot (2, 2, 1)\n",
    "plot(t,f(t))\n",
    "title (\"solution dans [1.5:2] \");\n",
    "xlabel (\"x\");\n",
    "ylabel (\"f(x)\");\n",
    "grid on\n",
    "t=[1.72:0.001:1.74];\n",
    "subplot (2, 2, 2)\n",
    "plot(t,f(t))\n",
    "title (\"solution dans [1.72:1.74] \");\n",
    "xlabel (\"x\");\n",
    "ylabel (\"f(x)\");\n",
    "grid on"
   ]
  },
  {
   "cell_type": "markdown",
   "metadata": {},
   "source": [
    "# 2) Code Matlab"
   ]
  },
  {
   "cell_type": "markdown",
   "metadata": {},
   "source": [
    "```python \n",
    "function [x]=bisection(f,a,b,tol)\n",
    "m=(a+b)/2;\n",
    "err=abs(b-a);\n",
    "while err>tol \n",
    "    if f(m)==0 \n",
    "        break\n",
    "    end\n",
    "    if f(a)*f(m)<0 \n",
    "        b=m;\n",
    "    else a=m;\n",
    "    end\n",
    "    m=(a+b)/2;\n",
    "    err=abs(b-a);\n",
    "end\n",
    "x=m;\n",
    "end\n",
    "```"
   ]
  },
  {
   "cell_type": "markdown",
   "metadata": {},
   "source": [
    "`[x]=bisection(f,-2,-1.5,0.001)`"
   ]
  },
  {
   "cell_type": "markdown",
   "metadata": {},
   "source": [
    "`[x]=bisection(f,-1.5,-0.5,0.001)`"
   ]
  },
  {
   "cell_type": "markdown",
   "metadata": {},
   "source": [
    "`[x]=bisection(f,1.5,2,0.001)`"
   ]
  },
  {
   "cell_type": "markdown",
   "metadata": {},
   "source": [
    "# 3) code matlab"
   ]
  },
  {
   "cell_type": "markdown",
   "metadata": {},
   "source": [
    "``` python\n",
    "function [x,cp]=bisection(f,a,b,tol)\n",
    "m=(a+b)/2;\n",
    "err=abs(b-a);\n",
    "cp=0;\n",
    "while err>tol \n",
    "    if f(m)==0 \n",
    "        break\n",
    "    end\n",
    "    if f(a)*f(m)<0 \n",
    "        b=m;\n",
    "    else a=m;\n",
    "    end\n",
    "    m=(a+b)/2;\n",
    "    err=abs(b-a);\n",
    "    cp=cp+1;\n",
    "end\n",
    "x=m;\n",
    "end\n",
    "```\n",
    "**exemple d'utilisation**\n",
    "\n",
    "`[x,cp]=bisection(f,-2,-1.5,0.001)\n",
    "[x,cp]=bisection(f,-1.5,-0.5,0.001)\n",
    "[x,cp]=bisection(f,1.5,2,0.001)`"
   ]
  },
  {
   "cell_type": "markdown",
   "metadata": {},
   "source": [
    "# EXERCICE 3:\n",
    ">On considère l'équation : $$ f(x)=x^3+4x^2-10=0$$\n",
    ">1) Dessiner la courbe de $f$ dans l'intervalle $[1;2]$, puis trouver une valeur approché de la solution à 0.001 près (En >utilisant la fonction zoom du graphique).\n",
    ">\n",
    ">2) Vérifier que cette équation est équivalente aux 3 schéma du point fixe suivant:\n",
    ">\n",
    ">a) $g_1(x)=\\frac{1}{2}\\sqrt{10-x^3}=x$.\n",
    ">\n",
    ">b) $g_2(x)=\\sqrt{\\displaystyle\\frac{10}{4+x}}=x$.\n",
    ">\n",
    ">c) $g_3(x)=x-x^3-4x^2+10=x$.\n",
    ">\n",
    ">3) Ecrire puis appliquer  une fonction Matlab que l'on appellera  `pointfixe.m` aux trois schémas précédents en prenant >`x0=1.5;eps=0.001`.\n",
    ">\n",
    ">4) Quelle est la fonction (parmi $g_1, g_2$ et $g_3$) qui donne la convergence la plus rapide?\n",
    ">"
   ]
  },
  {
   "cell_type": "markdown",
   "metadata": {},
   "source": [
    "### Correction <h3>"
   ]
  },
  {
   "cell_type": "markdown",
   "metadata": {},
   "source": [
    "#### 1)<h4>"
   ]
  },
  {
   "cell_type": "code",
   "execution_count": 11,
   "metadata": {},
   "outputs": [
    {
     "data": {
      "image/png": "[encoded data removed]",
      "text/plain": [
       "<Figure size 432x288 with 4 Axes>"
      ]
     },
     "metadata": {
      "needs_background": "light"
     },
     "output_type": "display_data"
    }
   ],
   "source": [
    "%matplotlib inline\n",
    "#import mpld3\n",
    "#mpld3.enable_notebook()\n",
    "import numpy as np \n",
    "import matplotlib.pyplot as plt\n",
    "\n",
    "f=lambda x:x**3+4*x**2-10\n",
    "\n",
    "t=np.linspace(1,2,100)\n",
    "plt.subplot(2,2,1)\n",
    "plt.plot(t,f(t),'r')\n",
    "plt.grid(True)\n",
    "##########################################\n",
    "t=np.linspace(1.2,1.4,100)\n",
    "plt.subplot(2,2,2)\n",
    "plt.plot(t,f(t),'r')\n",
    "plt.grid(True)\n",
    "##########################################\n",
    "t=np.linspace(1.35,1.4,100)\n",
    "plt.subplot(2,2,3)\n",
    "plt.plot(t,f(t),'r')\n",
    "plt.grid(True)\n",
    "#########################################\n",
    "t=np.linspace(1.365,1.367,100)\n",
    "plt.subplot(2,2,4)\n",
    "plt.plot(t,f(t),'r')\n",
    "plt.grid(True)\n"
   ]
  },
  {
   "cell_type": "markdown",
   "metadata": {},
   "source": [
    "#### 2)<h4>"
   ]
  },
  {
   "cell_type": "markdown",
   "metadata": {},
   "source": [
    "On considère l'équation : $$ f(x)=x^3+4x^2-10=0$$\n",
    "\n",
    "a) $g(x)=\\frac{1}{2}\\sqrt{10-x^3}=x$."
   ]
  },
  {
   "cell_type": "markdown",
   "metadata": {},
   "source": [
    " $$x^3+4x^2-10=0$$ \n",
    "    \n",
    " $$4x^2=10-x^3$$\n",
    " \n",
    " $$2x=\\sqrt{10-x^3}$$\n",
    " \n",
    " $$x=\\frac{1}{2}\\sqrt{10-x^3}$$\n",
    " \n",
    "Donc $ f(x)=g(x)$"
   ]
  },
  {
   "cell_type": "markdown",
   "metadata": {},
   "source": [
    "On considère l'équation : $$ f(x)=x^3+4x^2-10=0$$\n",
    "\n",
    "b) $g(x)=\\sqrt{\\displaystyle\\frac{10}{4+x}}=x$."
   ]
  },
  {
   "cell_type": "markdown",
   "metadata": {},
   "source": [
    "$$x^3+4x^2-10=0$$\n",
    "$$x^3+4x^2=10$$\n",
    "$$x^2(x+4)=10$$\n",
    "$$x^2=\\frac{10}{x+4}$$\n",
    "$$x=\\sqrt{\\displaystyle\\frac{10}{4+x}}$$\n",
    "Donc $ f(x)=g(x)$"
   ]
  },
  {
   "cell_type": "markdown",
   "metadata": {},
   "source": [
    "On considère l'équation : $$ f(x)=x^3+4x^2-10=0$$\n",
    "c) $g(x)=x-x^3-4x^2+10=x$."
   ]
  },
  {
   "cell_type": "markdown",
   "metadata": {},
   "source": [
    "$$x^3+4x^2-10=0$$\n",
    "$$x^3+4x^2-10+x-x=0$$\n",
    "$$x^3-4x^2+x-x=10$$\n",
    "$$x^3-4x^2+x=x+10$$\n",
    "$$4x^2+x=x-x^3+10$$\n",
    "$$x=x-x^3-4x^2+10$$\n",
    "Donc $ f(x)=g(x)$"
   ]
  },
  {
   "cell_type": "code",
   "execution_count": 1,
   "metadata": {},
   "outputs": [
    {
     "name": "stdout",
     "output_type": "stream",
     "text": [
      "f =\n",
      "\n",
      "@(x) x .^ 3 + 4 * x .^ 2 - 10\n",
      "\n",
      "g1 =\n",
      "\n",
      "@(x) 1 / 2 * sqrt (10 - x .^ 3)\n",
      "\n",
      "g2 =\n",
      "\n",
      "@(x) sqrt (10 ./ (x + 4))\n",
      "\n",
      "g3 =\n",
      "\n",
      "@(x) x - x .^ 3 - 4 * x .^ 2 + 10\n",
      "\n"
     ]
    }
   ],
   "source": [
    "f=@(x) x.^3+4*x.^2-10 # la fonction f\n",
    "g1=@(x) 1/2*sqrt(10-x.^3)\n",
    "g2=@(x) sqrt(10./(x+4))\n",
    "g3=@(x) x-x.^3-4*x.^2 + 10\n",
    "\n",
    "function [zero,erreur,niter]=pointfixe(g,x0,eps,nmax)\n",
    "zero=x0;\n",
    "for niter=1:nmax\n",
    "    x=zero; % \n",
    "    zero=g(x);\t% \n",
    "    erreur=abs(zero-x);\n",
    "    if erreur<eps \n",
    "        return\n",
    "    end\n",
    "end\n",
    "disp('pas de convergence avec le nombre d''iteration indique')\n",
    "end"
   ]
  },
  {
   "cell_type": "code",
   "execution_count": 16,
   "metadata": {},
   "outputs": [],
   "source": [
    "from sympy import *\n",
    "import numpy as np \n",
    "g1 = lambda x: 1/2*np.sqrt(10-x**3)"
   ]
  },
  {
   "cell_type": "code",
   "execution_count": 14,
   "metadata": {},
   "outputs": [],
   "source": [
    "import numpy as np \n",
    "f = lambda x: x**3 + 4*x**2 -10\n",
    "g1 = lambda x: 1/2*np.sqrt(10-x**3)\n",
    "g2 = lambda x: np.sqrt(10./(x+4))\n",
    "g3= lambda x: x-x**3-4*x**2 + 10\n",
    "def ptfixe(g,x0,eps,nmax):\n",
    "    zero=x0\n",
    "    for i in range(nmax):\n",
    "        x=zero\n",
    "        zero=g(x)\n",
    "        erreur=abs(zero-x)\n",
    "        if erreur<eps:\n",
    "            return zero,i\n",
    "    print('pas de convergence avec le nombre d''iteration indique ')"
   ]
  },
  {
   "cell_type": "code",
   "execution_count": 15,
   "metadata": {},
   "outputs": [
    {
     "data": {
      "text/plain": [
       "(1.365410061169957, 9)"
      ]
     },
     "execution_count": 15,
     "metadata": {},
     "output_type": "execute_result"
    }
   ],
   "source": [
    "ptfixe(g1,1.5,0.001,50)"
   ]
  },
  {
   "cell_type": "code",
   "execution_count": 3,
   "metadata": {},
   "outputs": [
    {
     "name": "stdout",
     "output_type": "stream",
     "text": [
      "x =  1.3654\n",
      "erreur =  0.00053184\n",
      "niter =  10\n"
     ]
    }
   ],
   "source": [
    "[x,erreur,niter]=pointfixe(g1,1.5,0.001,50)"
   ]
  },
  {
   "cell_type": "code",
   "execution_count": 4,
   "metadata": {},
   "outputs": [
    {
     "name": "stdout",
     "output_type": "stream",
     "text": [
      "x =  1.3653\n",
      "erreur =  0.00030773\n",
      "niter =  4\n"
     ]
    }
   ],
   "source": [
    "[x,erreur,niter]=pointfixe(g2,1.5,0.001,50)"
   ]
  },
  {
   "cell_type": "code",
   "execution_count": 2,
   "metadata": {},
   "outputs": [
    {
     "name": "stdout",
     "output_type": "stream",
     "text": [
      "pas de convergence avec le nombre d'iteration indique\n",
      "x =  NaN\n",
      "erreur =  NaN\n",
      "niter =  50\n"
     ]
    }
   ],
   "source": [
    "[x,erreur,niter]=pointfixe(g3,1.5,0.001,50)"
   ]
  },
  {
   "cell_type": "markdown",
   "metadata": {},
   "source": [
    "#### 4)<h4>"
   ]
  },
  {
   "cell_type": "markdown",
   "metadata": {},
   "source": [
    "###### La fonction qui donne la convergence la plus rapide est  $g_2$ <h6>\n",
    "+ $g_2$ donne le resultat en 4 itérations seulement alors que\n",
    "+ $g_1$ donne le resultat en 10 itérations et \n",
    "+ $g_3$ n'est pas convergente"
   ]
  },
  {
   "cell_type": "markdown",
   "metadata": {},
   "source": [
    "# EXERCICE 4:\n",
    ">1) On considère la fonction $f(x)=e^{-x}-x$. Ecrire puis appliquer  une fonction Matlab que l'on appellera `newton.m` à la >fonction $f$, en prenant $x0=0$, $eps=0.001$ .\n",
    ">\n",
    ">2) Montrer que l'équation $f(x)=0$ admet une solution unique que l'on peut obtenir en utilisant la méthode de Newton à partir >de $x0=1$."
   ]
  },
  {
   "cell_type": "markdown",
   "metadata": {},
   "source": [
    "### Correction <h3>"
   ]
  },
  {
   "cell_type": "markdown",
   "metadata": {},
   "source": [
    "#### 1) <h4>"
   ]
  },
  {
   "cell_type": "code",
   "execution_count": null,
   "metadata": {},
   "outputs": [],
   "source": [
    "function sol=newtonn(a,eps)\n",
    "x1=a;\n",
    "x2=x1-f(x1)/fprime(x1);\n",
    "\n",
    "while abs(x1-x2)>eps\n",
    "     x1=x2;\n",
    "     x2=x1-f(x1)/fprime(x1);\n",
    "end\n",
    "sol=x2;"
   ]
  },
  {
   "cell_type": "code",
   "execution_count": null,
   "metadata": {},
   "outputs": [],
   "source": [
    "f=@(x) exp(-x)-x\n",
    "fprime=@(x) -exp(-x)-1\n",
    "t=linspace(0,1,100);\n",
    "plot(t,f(t))\n",
    "grid on"
   ]
  },
  {
   "cell_type": "code",
   "execution_count": null,
   "metadata": {},
   "outputs": [],
   "source": [
    "sol=newton(0,0.001)"
   ]
  },
  {
   "cell_type": "markdown",
   "metadata": {},
   "source": [
    "#### 2) <h4>"
   ]
  },
  {
   "cell_type": "code",
   "execution_count": null,
   "metadata": {},
   "outputs": [],
   "source": [
    "sol=newton(1,0.001)"
   ]
  },
  {
   "cell_type": "markdown",
   "metadata": {},
   "source": [
    "### Correction"
   ]
  },
  {
   "cell_type": "code",
   "execution_count": 1,
   "metadata": {},
   "outputs": [],
   "source": [
    "import pandas as pd\n",
    "\n",
    "def different_sign(a, b):\n",
    "    return a * b < 0.0\n",
    "\n",
    "def bisection(func, low, high, n_max):\n",
    "    df = pd.DataFrame()\n",
    "    df = pd.DataFrame(columns=['A','milieu','B'])\n",
    "    df = df.append({'A': low,'milieu':(low + high) / 2.0,'B':high}, ignore_index=True)   \n",
    "    assert different_sign(func(low), func(high))\n",
    "    for i in range(n_max):\n",
    "        midpoint = (low + high) / 2.0        \n",
    "        if different_sign(func(low), func(midpoint)):\n",
    "            high = midpoint\n",
    "            df = df.append({'A': low,'milieu':(low + high) / 2.0,'B':high}, ignore_index=True)            \n",
    "        else:\n",
    "            low = midpoint\n",
    "            df = df.append({'A': low,'milieu':(low + high) / 2.0,'B':high}, ignore_index=True)          \n",
    "    return df"
   ]
  },
  {
   "cell_type": "code",
   "execution_count": 7,
   "metadata": {},
   "outputs": [],
   "source": [
    "def f(x):\n",
    "    return x**3+x**2-1"
   ]
  },
  {
   "cell_type": "code",
   "execution_count": 8,
   "metadata": {},
   "outputs": [
    {
     "data": {
      "text/html": [
       "<div>\n",
       "<style scoped>\n",
       "    .dataframe tbody tr th:only-of-type {\n",
       "        vertical-align: middle;\n",
       "    }\n",
       "\n",
       "    .dataframe tbody tr th {\n",
       "        vertical-align: top;\n",
       "    }\n",
       "\n",
       "    .dataframe thead th {\n",
       "        text-align: right;\n",
       "    }\n",
       "</style>\n",
       "<table border=\"1\" class=\"dataframe\">\n",
       "  <thead>\n",
       "    <tr style=\"text-align: right;\">\n",
       "      <th></th>\n",
       "      <th>A</th>\n",
       "      <th>milieu</th>\n",
       "      <th>B</th>\n",
       "      <th>f(m)</th>\n",
       "    </tr>\n",
       "  </thead>\n",
       "  <tbody>\n",
       "    <tr>\n",
       "      <th>0</th>\n",
       "      <td>-6.000000</td>\n",
       "      <td>0.000000</td>\n",
       "      <td>6.000000</td>\n",
       "      <td>-1.000000e+00</td>\n",
       "    </tr>\n",
       "    <tr>\n",
       "      <th>1</th>\n",
       "      <td>0.000000</td>\n",
       "      <td>3.000000</td>\n",
       "      <td>6.000000</td>\n",
       "      <td>3.500000e+01</td>\n",
       "    </tr>\n",
       "    <tr>\n",
       "      <th>2</th>\n",
       "      <td>0.000000</td>\n",
       "      <td>1.500000</td>\n",
       "      <td>3.000000</td>\n",
       "      <td>4.625000e+00</td>\n",
       "    </tr>\n",
       "    <tr>\n",
       "      <th>3</th>\n",
       "      <td>0.000000</td>\n",
       "      <td>0.750000</td>\n",
       "      <td>1.500000</td>\n",
       "      <td>-1.562500e-02</td>\n",
       "    </tr>\n",
       "    <tr>\n",
       "      <th>4</th>\n",
       "      <td>0.750000</td>\n",
       "      <td>1.125000</td>\n",
       "      <td>1.500000</td>\n",
       "      <td>1.689453e+00</td>\n",
       "    </tr>\n",
       "    <tr>\n",
       "      <th>5</th>\n",
       "      <td>0.750000</td>\n",
       "      <td>0.937500</td>\n",
       "      <td>1.125000</td>\n",
       "      <td>7.028809e-01</td>\n",
       "    </tr>\n",
       "    <tr>\n",
       "      <th>6</th>\n",
       "      <td>0.750000</td>\n",
       "      <td>0.843750</td>\n",
       "      <td>0.937500</td>\n",
       "      <td>3.125916e-01</td>\n",
       "    </tr>\n",
       "    <tr>\n",
       "      <th>7</th>\n",
       "      <td>0.750000</td>\n",
       "      <td>0.796875</td>\n",
       "      <td>0.843750</td>\n",
       "      <td>1.410332e-01</td>\n",
       "    </tr>\n",
       "    <tr>\n",
       "      <th>8</th>\n",
       "      <td>0.750000</td>\n",
       "      <td>0.773438</td>\n",
       "      <td>0.796875</td>\n",
       "      <td>6.088018e-02</td>\n",
       "    </tr>\n",
       "    <tr>\n",
       "      <th>9</th>\n",
       "      <td>0.750000</td>\n",
       "      <td>0.761719</td>\n",
       "      <td>0.773438</td>\n",
       "      <td>2.217644e-02</td>\n",
       "    </tr>\n",
       "    <tr>\n",
       "      <th>10</th>\n",
       "      <td>0.750000</td>\n",
       "      <td>0.755859</td>\n",
       "      <td>0.761719</td>\n",
       "      <td>3.163539e-03</td>\n",
       "    </tr>\n",
       "    <tr>\n",
       "      <th>11</th>\n",
       "      <td>0.750000</td>\n",
       "      <td>0.752930</td>\n",
       "      <td>0.755859</td>\n",
       "      <td>-6.258701e-03</td>\n",
       "    </tr>\n",
       "    <tr>\n",
       "      <th>12</th>\n",
       "      <td>0.752930</td>\n",
       "      <td>0.754395</td>\n",
       "      <td>0.755859</td>\n",
       "      <td>-1.554583e-03</td>\n",
       "    </tr>\n",
       "    <tr>\n",
       "      <th>13</th>\n",
       "      <td>0.754395</td>\n",
       "      <td>0.755127</td>\n",
       "      <td>0.755859</td>\n",
       "      <td>8.027262e-04</td>\n",
       "    </tr>\n",
       "    <tr>\n",
       "      <th>14</th>\n",
       "      <td>0.754395</td>\n",
       "      <td>0.754761</td>\n",
       "      <td>0.755127</td>\n",
       "      <td>-3.763662e-04</td>\n",
       "    </tr>\n",
       "    <tr>\n",
       "      <th>15</th>\n",
       "      <td>0.754761</td>\n",
       "      <td>0.754944</td>\n",
       "      <td>0.755127</td>\n",
       "      <td>2.130705e-04</td>\n",
       "    </tr>\n",
       "    <tr>\n",
       "      <th>16</th>\n",
       "      <td>0.754761</td>\n",
       "      <td>0.754852</td>\n",
       "      <td>0.754944</td>\n",
       "      <td>-8.167520e-05</td>\n",
       "    </tr>\n",
       "    <tr>\n",
       "      <th>17</th>\n",
       "      <td>0.754852</td>\n",
       "      <td>0.754898</td>\n",
       "      <td>0.754944</td>\n",
       "      <td>6.569083e-05</td>\n",
       "    </tr>\n",
       "    <tr>\n",
       "      <th>18</th>\n",
       "      <td>0.754852</td>\n",
       "      <td>0.754875</td>\n",
       "      <td>0.754898</td>\n",
       "      <td>-7.993897e-06</td>\n",
       "    </tr>\n",
       "    <tr>\n",
       "      <th>19</th>\n",
       "      <td>0.754875</td>\n",
       "      <td>0.754887</td>\n",
       "      <td>0.754898</td>\n",
       "      <td>2.884804e-05</td>\n",
       "    </tr>\n",
       "    <tr>\n",
       "      <th>20</th>\n",
       "      <td>0.754875</td>\n",
       "      <td>0.754881</td>\n",
       "      <td>0.754887</td>\n",
       "      <td>1.042696e-05</td>\n",
       "    </tr>\n",
       "    <tr>\n",
       "      <th>21</th>\n",
       "      <td>0.754875</td>\n",
       "      <td>0.754878</td>\n",
       "      <td>0.754881</td>\n",
       "      <td>1.216506e-06</td>\n",
       "    </tr>\n",
       "    <tr>\n",
       "      <th>22</th>\n",
       "      <td>0.754875</td>\n",
       "      <td>0.754877</td>\n",
       "      <td>0.754878</td>\n",
       "      <td>-3.388702e-06</td>\n",
       "    </tr>\n",
       "    <tr>\n",
       "      <th>23</th>\n",
       "      <td>0.754877</td>\n",
       "      <td>0.754877</td>\n",
       "      <td>0.754878</td>\n",
       "      <td>-1.086100e-06</td>\n",
       "    </tr>\n",
       "    <tr>\n",
       "      <th>24</th>\n",
       "      <td>0.754877</td>\n",
       "      <td>0.754878</td>\n",
       "      <td>0.754878</td>\n",
       "      <td>6.520276e-08</td>\n",
       "    </tr>\n",
       "    <tr>\n",
       "      <th>25</th>\n",
       "      <td>0.754877</td>\n",
       "      <td>0.754878</td>\n",
       "      <td>0.754878</td>\n",
       "      <td>-5.104486e-07</td>\n",
       "    </tr>\n",
       "    <tr>\n",
       "      <th>26</th>\n",
       "      <td>0.754878</td>\n",
       "      <td>0.754878</td>\n",
       "      <td>0.754878</td>\n",
       "      <td>-2.226229e-07</td>\n",
       "    </tr>\n",
       "    <tr>\n",
       "      <th>27</th>\n",
       "      <td>0.754878</td>\n",
       "      <td>0.754878</td>\n",
       "      <td>0.754878</td>\n",
       "      <td>-7.871010e-08</td>\n",
       "    </tr>\n",
       "    <tr>\n",
       "      <th>28</th>\n",
       "      <td>0.754878</td>\n",
       "      <td>0.754878</td>\n",
       "      <td>0.754878</td>\n",
       "      <td>-6.753672e-09</td>\n",
       "    </tr>\n",
       "    <tr>\n",
       "      <th>29</th>\n",
       "      <td>0.754878</td>\n",
       "      <td>0.754878</td>\n",
       "      <td>0.754878</td>\n",
       "      <td>2.922454e-08</td>\n",
       "    </tr>\n",
       "    <tr>\n",
       "      <th>...</th>\n",
       "      <td>...</td>\n",
       "      <td>...</td>\n",
       "      <td>...</td>\n",
       "      <td>...</td>\n",
       "    </tr>\n",
       "    <tr>\n",
       "      <th>71</th>\n",
       "      <td>0.754878</td>\n",
       "      <td>0.754878</td>\n",
       "      <td>0.754878</td>\n",
       "      <td>-1.110223e-16</td>\n",
       "    </tr>\n",
       "    <tr>\n",
       "      <th>72</th>\n",
       "      <td>0.754878</td>\n",
       "      <td>0.754878</td>\n",
       "      <td>0.754878</td>\n",
       "      <td>-1.110223e-16</td>\n",
       "    </tr>\n",
       "    <tr>\n",
       "      <th>73</th>\n",
       "      <td>0.754878</td>\n",
       "      <td>0.754878</td>\n",
       "      <td>0.754878</td>\n",
       "      <td>-1.110223e-16</td>\n",
       "    </tr>\n",
       "    <tr>\n",
       "      <th>74</th>\n",
       "      <td>0.754878</td>\n",
       "      <td>0.754878</td>\n",
       "      <td>0.754878</td>\n",
       "      <td>-1.110223e-16</td>\n",
       "    </tr>\n",
       "    <tr>\n",
       "      <th>75</th>\n",
       "      <td>0.754878</td>\n",
       "      <td>0.754878</td>\n",
       "      <td>0.754878</td>\n",
       "      <td>-1.110223e-16</td>\n",
       "    </tr>\n",
       "    <tr>\n",
       "      <th>76</th>\n",
       "      <td>0.754878</td>\n",
       "      <td>0.754878</td>\n",
       "      <td>0.754878</td>\n",
       "      <td>-1.110223e-16</td>\n",
       "    </tr>\n",
       "    <tr>\n",
       "      <th>77</th>\n",
       "      <td>0.754878</td>\n",
       "      <td>0.754878</td>\n",
       "      <td>0.754878</td>\n",
       "      <td>-1.110223e-16</td>\n",
       "    </tr>\n",
       "    <tr>\n",
       "      <th>78</th>\n",
       "      <td>0.754878</td>\n",
       "      <td>0.754878</td>\n",
       "      <td>0.754878</td>\n",
       "      <td>-1.110223e-16</td>\n",
       "    </tr>\n",
       "    <tr>\n",
       "      <th>79</th>\n",
       "      <td>0.754878</td>\n",
       "      <td>0.754878</td>\n",
       "      <td>0.754878</td>\n",
       "      <td>-1.110223e-16</td>\n",
       "    </tr>\n",
       "    <tr>\n",
       "      <th>80</th>\n",
       "      <td>0.754878</td>\n",
       "      <td>0.754878</td>\n",
       "      <td>0.754878</td>\n",
       "      <td>-1.110223e-16</td>\n",
       "    </tr>\n",
       "    <tr>\n",
       "      <th>81</th>\n",
       "      <td>0.754878</td>\n",
       "      <td>0.754878</td>\n",
       "      <td>0.754878</td>\n",
       "      <td>-1.110223e-16</td>\n",
       "    </tr>\n",
       "    <tr>\n",
       "      <th>82</th>\n",
       "      <td>0.754878</td>\n",
       "      <td>0.754878</td>\n",
       "      <td>0.754878</td>\n",
       "      <td>-1.110223e-16</td>\n",
       "    </tr>\n",
       "    <tr>\n",
       "      <th>83</th>\n",
       "      <td>0.754878</td>\n",
       "      <td>0.754878</td>\n",
       "      <td>0.754878</td>\n",
       "      <td>-1.110223e-16</td>\n",
       "    </tr>\n",
       "    <tr>\n",
       "      <th>84</th>\n",
       "      <td>0.754878</td>\n",
       "      <td>0.754878</td>\n",
       "      <td>0.754878</td>\n",
       "      <td>-1.110223e-16</td>\n",
       "    </tr>\n",
       "    <tr>\n",
       "      <th>85</th>\n",
       "      <td>0.754878</td>\n",
       "      <td>0.754878</td>\n",
       "      <td>0.754878</td>\n",
       "      <td>-1.110223e-16</td>\n",
       "    </tr>\n",
       "    <tr>\n",
       "      <th>86</th>\n",
       "      <td>0.754878</td>\n",
       "      <td>0.754878</td>\n",
       "      <td>0.754878</td>\n",
       "      <td>-1.110223e-16</td>\n",
       "    </tr>\n",
       "    <tr>\n",
       "      <th>87</th>\n",
       "      <td>0.754878</td>\n",
       "      <td>0.754878</td>\n",
       "      <td>0.754878</td>\n",
       "      <td>-1.110223e-16</td>\n",
       "    </tr>\n",
       "    <tr>\n",
       "      <th>88</th>\n",
       "      <td>0.754878</td>\n",
       "      <td>0.754878</td>\n",
       "      <td>0.754878</td>\n",
       "      <td>-1.110223e-16</td>\n",
       "    </tr>\n",
       "    <tr>\n",
       "      <th>89</th>\n",
       "      <td>0.754878</td>\n",
       "      <td>0.754878</td>\n",
       "      <td>0.754878</td>\n",
       "      <td>-1.110223e-16</td>\n",
       "    </tr>\n",
       "    <tr>\n",
       "      <th>90</th>\n",
       "      <td>0.754878</td>\n",
       "      <td>0.754878</td>\n",
       "      <td>0.754878</td>\n",
       "      <td>-1.110223e-16</td>\n",
       "    </tr>\n",
       "    <tr>\n",
       "      <th>91</th>\n",
       "      <td>0.754878</td>\n",
       "      <td>0.754878</td>\n",
       "      <td>0.754878</td>\n",
       "      <td>-1.110223e-16</td>\n",
       "    </tr>\n",
       "    <tr>\n",
       "      <th>92</th>\n",
       "      <td>0.754878</td>\n",
       "      <td>0.754878</td>\n",
       "      <td>0.754878</td>\n",
       "      <td>-1.110223e-16</td>\n",
       "    </tr>\n",
       "    <tr>\n",
       "      <th>93</th>\n",
       "      <td>0.754878</td>\n",
       "      <td>0.754878</td>\n",
       "      <td>0.754878</td>\n",
       "      <td>-1.110223e-16</td>\n",
       "    </tr>\n",
       "    <tr>\n",
       "      <th>94</th>\n",
       "      <td>0.754878</td>\n",
       "      <td>0.754878</td>\n",
       "      <td>0.754878</td>\n",
       "      <td>-1.110223e-16</td>\n",
       "    </tr>\n",
       "    <tr>\n",
       "      <th>95</th>\n",
       "      <td>0.754878</td>\n",
       "      <td>0.754878</td>\n",
       "      <td>0.754878</td>\n",
       "      <td>-1.110223e-16</td>\n",
       "    </tr>\n",
       "    <tr>\n",
       "      <th>96</th>\n",
       "      <td>0.754878</td>\n",
       "      <td>0.754878</td>\n",
       "      <td>0.754878</td>\n",
       "      <td>-1.110223e-16</td>\n",
       "    </tr>\n",
       "    <tr>\n",
       "      <th>97</th>\n",
       "      <td>0.754878</td>\n",
       "      <td>0.754878</td>\n",
       "      <td>0.754878</td>\n",
       "      <td>-1.110223e-16</td>\n",
       "    </tr>\n",
       "    <tr>\n",
       "      <th>98</th>\n",
       "      <td>0.754878</td>\n",
       "      <td>0.754878</td>\n",
       "      <td>0.754878</td>\n",
       "      <td>-1.110223e-16</td>\n",
       "    </tr>\n",
       "    <tr>\n",
       "      <th>99</th>\n",
       "      <td>0.754878</td>\n",
       "      <td>0.754878</td>\n",
       "      <td>0.754878</td>\n",
       "      <td>-1.110223e-16</td>\n",
       "    </tr>\n",
       "    <tr>\n",
       "      <th>100</th>\n",
       "      <td>0.754878</td>\n",
       "      <td>0.754878</td>\n",
       "      <td>0.754878</td>\n",
       "      <td>-1.110223e-16</td>\n",
       "    </tr>\n",
       "  </tbody>\n",
       "</table>\n",
       "<p>101 rows × 4 columns</p>\n",
       "</div>"
      ],
      "text/plain": [
       "            A    milieu         B          f(m)\n",
       "0   -6.000000  0.000000  6.000000 -1.000000e+00\n",
       "1    0.000000  3.000000  6.000000  3.500000e+01\n",
       "2    0.000000  1.500000  3.000000  4.625000e+00\n",
       "3    0.000000  0.750000  1.500000 -1.562500e-02\n",
       "4    0.750000  1.125000  1.500000  1.689453e+00\n",
       "5    0.750000  0.937500  1.125000  7.028809e-01\n",
       "6    0.750000  0.843750  0.937500  3.125916e-01\n",
       "7    0.750000  0.796875  0.843750  1.410332e-01\n",
       "8    0.750000  0.773438  0.796875  6.088018e-02\n",
       "9    0.750000  0.761719  0.773438  2.217644e-02\n",
       "10   0.750000  0.755859  0.761719  3.163539e-03\n",
       "11   0.750000  0.752930  0.755859 -6.258701e-03\n",
       "12   0.752930  0.754395  0.755859 -1.554583e-03\n",
       "13   0.754395  0.755127  0.755859  8.027262e-04\n",
       "14   0.754395  0.754761  0.755127 -3.763662e-04\n",
       "15   0.754761  0.754944  0.755127  2.130705e-04\n",
       "16   0.754761  0.754852  0.754944 -8.167520e-05\n",
       "17   0.754852  0.754898  0.754944  6.569083e-05\n",
       "18   0.754852  0.754875  0.754898 -7.993897e-06\n",
       "19   0.754875  0.754887  0.754898  2.884804e-05\n",
       "20   0.754875  0.754881  0.754887  1.042696e-05\n",
       "21   0.754875  0.754878  0.754881  1.216506e-06\n",
       "22   0.754875  0.754877  0.754878 -3.388702e-06\n",
       "23   0.754877  0.754877  0.754878 -1.086100e-06\n",
       "24   0.754877  0.754878  0.754878  6.520276e-08\n",
       "25   0.754877  0.754878  0.754878 -5.104486e-07\n",
       "26   0.754878  0.754878  0.754878 -2.226229e-07\n",
       "27   0.754878  0.754878  0.754878 -7.871010e-08\n",
       "28   0.754878  0.754878  0.754878 -6.753672e-09\n",
       "29   0.754878  0.754878  0.754878  2.922454e-08\n",
       "..        ...       ...       ...           ...\n",
       "71   0.754878  0.754878  0.754878 -1.110223e-16\n",
       "72   0.754878  0.754878  0.754878 -1.110223e-16\n",
       "73   0.754878  0.754878  0.754878 -1.110223e-16\n",
       "74   0.754878  0.754878  0.754878 -1.110223e-16\n",
       "75   0.754878  0.754878  0.754878 -1.110223e-16\n",
       "76   0.754878  0.754878  0.754878 -1.110223e-16\n",
       "77   0.754878  0.754878  0.754878 -1.110223e-16\n",
       "78   0.754878  0.754878  0.754878 -1.110223e-16\n",
       "79   0.754878  0.754878  0.754878 -1.110223e-16\n",
       "80   0.754878  0.754878  0.754878 -1.110223e-16\n",
       "81   0.754878  0.754878  0.754878 -1.110223e-16\n",
       "82   0.754878  0.754878  0.754878 -1.110223e-16\n",
       "83   0.754878  0.754878  0.754878 -1.110223e-16\n",
       "84   0.754878  0.754878  0.754878 -1.110223e-16\n",
       "85   0.754878  0.754878  0.754878 -1.110223e-16\n",
       "86   0.754878  0.754878  0.754878 -1.110223e-16\n",
       "87   0.754878  0.754878  0.754878 -1.110223e-16\n",
       "88   0.754878  0.754878  0.754878 -1.110223e-16\n",
       "89   0.754878  0.754878  0.754878 -1.110223e-16\n",
       "90   0.754878  0.754878  0.754878 -1.110223e-16\n",
       "91   0.754878  0.754878  0.754878 -1.110223e-16\n",
       "92   0.754878  0.754878  0.754878 -1.110223e-16\n",
       "93   0.754878  0.754878  0.754878 -1.110223e-16\n",
       "94   0.754878  0.754878  0.754878 -1.110223e-16\n",
       "95   0.754878  0.754878  0.754878 -1.110223e-16\n",
       "96   0.754878  0.754878  0.754878 -1.110223e-16\n",
       "97   0.754878  0.754878  0.754878 -1.110223e-16\n",
       "98   0.754878  0.754878  0.754878 -1.110223e-16\n",
       "99   0.754878  0.754878  0.754878 -1.110223e-16\n",
       "100  0.754878  0.754878  0.754878 -1.110223e-16\n",
       "\n",
       "[101 rows x 4 columns]"
      ]
     },
     "execution_count": 8,
     "metadata": {},
     "output_type": "execute_result"
    }
   ],
   "source": [
    "A=bisection(f, -6, 6, 100)\n",
    "A['f(m)']=A['milieu'].apply(f)\n",
    "A"
   ]
  },
  {
   "cell_type": "code",
   "execution_count": null,
   "metadata": {},
   "outputs": [],
   "source": []
  },
  {
   "cell_type": "code",
   "execution_count": null,
   "metadata": {},
   "outputs": [],
   "source": []
  },
  {
   "cell_type": "code",
   "execution_count": null,
   "metadata": {},
   "outputs": [],
   "source": []
  }
 ],
 "metadata": {
  "kernelspec": {
   "display_name": "Python 3",
   "language": "python",
   "name": "python3"
  },
  "language_info": {
   "codemirror_mode": {
    "name": "ipython",
    "version": 3
   },
   "file_extension": ".py",
   "mimetype": "text/x-python",
   "name": "python",
   "nbconvert_exporter": "python",
   "pygments_lexer": "ipython3",
   "version": "3.7.3"
  }
 },
 "nbformat": 4,
 "nbformat_minor": 2
}
